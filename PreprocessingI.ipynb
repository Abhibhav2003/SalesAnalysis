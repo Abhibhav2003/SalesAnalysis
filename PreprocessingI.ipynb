{
 "cells": [
  {
   "cell_type": "code",
   "execution_count": 102,
   "id": "c0701317-a66a-4ff7-9946-58a445515919",
   "metadata": {},
   "outputs": [],
   "source": [
    "import pandas as pd\n",
    "import numpy as np\n",
    "import seaborn as sns\n",
    "import matplotlib.pyplot as plt\n",
    "import os"
   ]
  },
  {
   "cell_type": "code",
   "execution_count": 103,
   "id": "1f1980e8-799a-4078-a511-90a98f0ec887",
   "metadata": {},
   "outputs": [],
   "source": [
    "data = pd.read_csv(r'dirty_data/dirty_cafe_sales.csv')"
   ]
  },
  {
   "cell_type": "code",
   "execution_count": 104,
   "id": "f65f017f-be52-4e0d-aac5-03bf51043d4e",
   "metadata": {},
   "outputs": [
    {
     "data": {
      "text/html": [
       "<div>\n",
       "<style scoped>\n",
       "    .dataframe tbody tr th:only-of-type {\n",
       "        vertical-align: middle;\n",
       "    }\n",
       "\n",
       "    .dataframe tbody tr th {\n",
       "        vertical-align: top;\n",
       "    }\n",
       "\n",
       "    .dataframe thead th {\n",
       "        text-align: right;\n",
       "    }\n",
       "</style>\n",
       "<table border=\"1\" class=\"dataframe\">\n",
       "  <thead>\n",
       "    <tr style=\"text-align: right;\">\n",
       "      <th></th>\n",
       "      <th>Transaction ID</th>\n",
       "      <th>Item</th>\n",
       "      <th>Quantity</th>\n",
       "      <th>Price Per Unit</th>\n",
       "      <th>Total Spent</th>\n",
       "      <th>Payment Method</th>\n",
       "      <th>Location</th>\n",
       "      <th>Transaction Date</th>\n",
       "    </tr>\n",
       "  </thead>\n",
       "  <tbody>\n",
       "    <tr>\n",
       "      <th>0</th>\n",
       "      <td>TXN_1961373</td>\n",
       "      <td>Coffee</td>\n",
       "      <td>2</td>\n",
       "      <td>2.0</td>\n",
       "      <td>4.0</td>\n",
       "      <td>Credit Card</td>\n",
       "      <td>Takeaway</td>\n",
       "      <td>2023-09-08</td>\n",
       "    </tr>\n",
       "    <tr>\n",
       "      <th>1</th>\n",
       "      <td>TXN_4977031</td>\n",
       "      <td>Cake</td>\n",
       "      <td>4</td>\n",
       "      <td>3.0</td>\n",
       "      <td>12.0</td>\n",
       "      <td>Cash</td>\n",
       "      <td>In-store</td>\n",
       "      <td>2023-05-16</td>\n",
       "    </tr>\n",
       "    <tr>\n",
       "      <th>2</th>\n",
       "      <td>TXN_4271903</td>\n",
       "      <td>Cookie</td>\n",
       "      <td>4</td>\n",
       "      <td>1.0</td>\n",
       "      <td>ERROR</td>\n",
       "      <td>Credit Card</td>\n",
       "      <td>In-store</td>\n",
       "      <td>2023-07-19</td>\n",
       "    </tr>\n",
       "    <tr>\n",
       "      <th>3</th>\n",
       "      <td>TXN_7034554</td>\n",
       "      <td>Salad</td>\n",
       "      <td>2</td>\n",
       "      <td>5.0</td>\n",
       "      <td>10.0</td>\n",
       "      <td>UNKNOWN</td>\n",
       "      <td>UNKNOWN</td>\n",
       "      <td>2023-04-27</td>\n",
       "    </tr>\n",
       "    <tr>\n",
       "      <th>4</th>\n",
       "      <td>TXN_3160411</td>\n",
       "      <td>Coffee</td>\n",
       "      <td>2</td>\n",
       "      <td>2.0</td>\n",
       "      <td>4.0</td>\n",
       "      <td>Digital Wallet</td>\n",
       "      <td>In-store</td>\n",
       "      <td>2023-06-11</td>\n",
       "    </tr>\n",
       "  </tbody>\n",
       "</table>\n",
       "</div>"
      ],
      "text/plain": [
       "  Transaction ID    Item Quantity Price Per Unit Total Spent  Payment Method  \\\n",
       "0    TXN_1961373  Coffee        2            2.0         4.0     Credit Card   \n",
       "1    TXN_4977031    Cake        4            3.0        12.0            Cash   \n",
       "2    TXN_4271903  Cookie        4            1.0       ERROR     Credit Card   \n",
       "3    TXN_7034554   Salad        2            5.0        10.0         UNKNOWN   \n",
       "4    TXN_3160411  Coffee        2            2.0         4.0  Digital Wallet   \n",
       "\n",
       "   Location Transaction Date  \n",
       "0  Takeaway       2023-09-08  \n",
       "1  In-store       2023-05-16  \n",
       "2  In-store       2023-07-19  \n",
       "3   UNKNOWN       2023-04-27  \n",
       "4  In-store       2023-06-11  "
      ]
     },
     "execution_count": 104,
     "metadata": {},
     "output_type": "execute_result"
    }
   ],
   "source": [
    "data.head()"
   ]
  },
  {
   "cell_type": "code",
   "execution_count": 105,
   "id": "05622024-b3bf-4474-b8d5-f22ac2cb1b1f",
   "metadata": {},
   "outputs": [],
   "source": [
    "# Column Renaming :\n",
    "data.columns = ['Trans_id','Item','Quantity','Price_per_unit','Total_spent','Payment_method','Location','Trans_date']"
   ]
  },
  {
   "cell_type": "code",
   "execution_count": 106,
   "id": "b86e5ce5-a570-4dd8-b867-a1d0f57b19e7",
   "metadata": {},
   "outputs": [
    {
     "data": {
      "text/html": [
       "<div>\n",
       "<style scoped>\n",
       "    .dataframe tbody tr th:only-of-type {\n",
       "        vertical-align: middle;\n",
       "    }\n",
       "\n",
       "    .dataframe tbody tr th {\n",
       "        vertical-align: top;\n",
       "    }\n",
       "\n",
       "    .dataframe thead th {\n",
       "        text-align: right;\n",
       "    }\n",
       "</style>\n",
       "<table border=\"1\" class=\"dataframe\">\n",
       "  <thead>\n",
       "    <tr style=\"text-align: right;\">\n",
       "      <th></th>\n",
       "      <th>Trans_id</th>\n",
       "      <th>Item</th>\n",
       "      <th>Quantity</th>\n",
       "      <th>Price_per_unit</th>\n",
       "      <th>Total_spent</th>\n",
       "      <th>Payment_method</th>\n",
       "      <th>Location</th>\n",
       "      <th>Trans_date</th>\n",
       "    </tr>\n",
       "  </thead>\n",
       "  <tbody>\n",
       "    <tr>\n",
       "      <th>0</th>\n",
       "      <td>TXN_1961373</td>\n",
       "      <td>Coffee</td>\n",
       "      <td>2</td>\n",
       "      <td>2.0</td>\n",
       "      <td>4.0</td>\n",
       "      <td>Credit Card</td>\n",
       "      <td>Takeaway</td>\n",
       "      <td>2023-09-08</td>\n",
       "    </tr>\n",
       "    <tr>\n",
       "      <th>1</th>\n",
       "      <td>TXN_4977031</td>\n",
       "      <td>Cake</td>\n",
       "      <td>4</td>\n",
       "      <td>3.0</td>\n",
       "      <td>12.0</td>\n",
       "      <td>Cash</td>\n",
       "      <td>In-store</td>\n",
       "      <td>2023-05-16</td>\n",
       "    </tr>\n",
       "    <tr>\n",
       "      <th>2</th>\n",
       "      <td>TXN_4271903</td>\n",
       "      <td>Cookie</td>\n",
       "      <td>4</td>\n",
       "      <td>1.0</td>\n",
       "      <td>ERROR</td>\n",
       "      <td>Credit Card</td>\n",
       "      <td>In-store</td>\n",
       "      <td>2023-07-19</td>\n",
       "    </tr>\n",
       "    <tr>\n",
       "      <th>3</th>\n",
       "      <td>TXN_7034554</td>\n",
       "      <td>Salad</td>\n",
       "      <td>2</td>\n",
       "      <td>5.0</td>\n",
       "      <td>10.0</td>\n",
       "      <td>UNKNOWN</td>\n",
       "      <td>UNKNOWN</td>\n",
       "      <td>2023-04-27</td>\n",
       "    </tr>\n",
       "    <tr>\n",
       "      <th>4</th>\n",
       "      <td>TXN_3160411</td>\n",
       "      <td>Coffee</td>\n",
       "      <td>2</td>\n",
       "      <td>2.0</td>\n",
       "      <td>4.0</td>\n",
       "      <td>Digital Wallet</td>\n",
       "      <td>In-store</td>\n",
       "      <td>2023-06-11</td>\n",
       "    </tr>\n",
       "  </tbody>\n",
       "</table>\n",
       "</div>"
      ],
      "text/plain": [
       "      Trans_id    Item Quantity Price_per_unit Total_spent  Payment_method  \\\n",
       "0  TXN_1961373  Coffee        2            2.0         4.0     Credit Card   \n",
       "1  TXN_4977031    Cake        4            3.0        12.0            Cash   \n",
       "2  TXN_4271903  Cookie        4            1.0       ERROR     Credit Card   \n",
       "3  TXN_7034554   Salad        2            5.0        10.0         UNKNOWN   \n",
       "4  TXN_3160411  Coffee        2            2.0         4.0  Digital Wallet   \n",
       "\n",
       "   Location  Trans_date  \n",
       "0  Takeaway  2023-09-08  \n",
       "1  In-store  2023-05-16  \n",
       "2  In-store  2023-07-19  \n",
       "3   UNKNOWN  2023-04-27  \n",
       "4  In-store  2023-06-11  "
      ]
     },
     "execution_count": 106,
     "metadata": {},
     "output_type": "execute_result"
    }
   ],
   "source": [
    "data.head()"
   ]
  },
  {
   "cell_type": "code",
   "execution_count": 107,
   "id": "b5339866",
   "metadata": {},
   "outputs": [],
   "source": [
    "data = data.drop(columns=['Trans_id'])"
   ]
  },
  {
   "cell_type": "code",
   "execution_count": 108,
   "id": "9f6a756e-ff85-4fff-8d00-dcbf438bc5fb",
   "metadata": {},
   "outputs": [
    {
     "name": "stdout",
     "output_type": "stream",
     "text": [
      "<class 'pandas.core.frame.DataFrame'>\n",
      "RangeIndex: 10000 entries, 0 to 9999\n",
      "Data columns (total 7 columns):\n",
      " #   Column          Non-Null Count  Dtype \n",
      "---  ------          --------------  ----- \n",
      " 0   Item            9667 non-null   object\n",
      " 1   Quantity        9862 non-null   object\n",
      " 2   Price_per_unit  9821 non-null   object\n",
      " 3   Total_spent     9827 non-null   object\n",
      " 4   Payment_method  7421 non-null   object\n",
      " 5   Location        6735 non-null   object\n",
      " 6   Trans_date      9841 non-null   object\n",
      "dtypes: object(7)\n",
      "memory usage: 547.0+ KB\n"
     ]
    }
   ],
   "source": [
    "data.info()"
   ]
  },
  {
   "cell_type": "code",
   "execution_count": 109,
   "id": "de4f9bff-64bc-4179-bed6-c8b0fdac1243",
   "metadata": {},
   "outputs": [],
   "source": [
    "# Data Missing Order : Location > Payment_method > Item > Price_per_unit > Trans_date > Quantity  "
   ]
  },
  {
   "cell_type": "code",
   "execution_count": 110,
   "id": "1a8e8e00-d279-4ea9-bed8-04beb83d0c6e",
   "metadata": {},
   "outputs": [
    {
     "data": {
      "text/html": [
       "<div>\n",
       "<style scoped>\n",
       "    .dataframe tbody tr th:only-of-type {\n",
       "        vertical-align: middle;\n",
       "    }\n",
       "\n",
       "    .dataframe tbody tr th {\n",
       "        vertical-align: top;\n",
       "    }\n",
       "\n",
       "    .dataframe thead th {\n",
       "        text-align: right;\n",
       "    }\n",
       "</style>\n",
       "<table border=\"1\" class=\"dataframe\">\n",
       "  <thead>\n",
       "    <tr style=\"text-align: right;\">\n",
       "      <th></th>\n",
       "      <th>Item</th>\n",
       "      <th>Quantity</th>\n",
       "      <th>Price_per_unit</th>\n",
       "      <th>Total_spent</th>\n",
       "      <th>Payment_method</th>\n",
       "      <th>Location</th>\n",
       "      <th>Trans_date</th>\n",
       "    </tr>\n",
       "  </thead>\n",
       "  <tbody>\n",
       "    <tr>\n",
       "      <th>8</th>\n",
       "      <td>NaN</td>\n",
       "      <td>5</td>\n",
       "      <td>3.0</td>\n",
       "      <td>15.0</td>\n",
       "      <td>NaN</td>\n",
       "      <td>Takeaway</td>\n",
       "      <td>2023-07-28</td>\n",
       "    </tr>\n",
       "    <tr>\n",
       "      <th>9</th>\n",
       "      <td>Sandwich</td>\n",
       "      <td>5</td>\n",
       "      <td>4.0</td>\n",
       "      <td>20.0</td>\n",
       "      <td>NaN</td>\n",
       "      <td>In-store</td>\n",
       "      <td>2023-12-31</td>\n",
       "    </tr>\n",
       "    <tr>\n",
       "      <th>13</th>\n",
       "      <td>Cookie</td>\n",
       "      <td>5</td>\n",
       "      <td>1.0</td>\n",
       "      <td>5.0</td>\n",
       "      <td>NaN</td>\n",
       "      <td>Takeaway</td>\n",
       "      <td>2023-06-01</td>\n",
       "    </tr>\n",
       "    <tr>\n",
       "      <th>14</th>\n",
       "      <td>ERROR</td>\n",
       "      <td>2</td>\n",
       "      <td>1.5</td>\n",
       "      <td>3.0</td>\n",
       "      <td>NaN</td>\n",
       "      <td>In-store</td>\n",
       "      <td>2023-03-21</td>\n",
       "    </tr>\n",
       "    <tr>\n",
       "      <th>16</th>\n",
       "      <td>Sandwich</td>\n",
       "      <td>1</td>\n",
       "      <td>4.0</td>\n",
       "      <td>4.0</td>\n",
       "      <td>NaN</td>\n",
       "      <td>NaN</td>\n",
       "      <td>2023-06-10</td>\n",
       "    </tr>\n",
       "    <tr>\n",
       "      <th>...</th>\n",
       "      <td>...</td>\n",
       "      <td>...</td>\n",
       "      <td>...</td>\n",
       "      <td>...</td>\n",
       "      <td>...</td>\n",
       "      <td>...</td>\n",
       "      <td>...</td>\n",
       "    </tr>\n",
       "    <tr>\n",
       "      <th>9978</th>\n",
       "      <td>Tea</td>\n",
       "      <td>3</td>\n",
       "      <td>1.5</td>\n",
       "      <td>4.5</td>\n",
       "      <td>NaN</td>\n",
       "      <td>NaN</td>\n",
       "      <td>2023-02-16</td>\n",
       "    </tr>\n",
       "    <tr>\n",
       "      <th>9982</th>\n",
       "      <td>Cookie</td>\n",
       "      <td>2</td>\n",
       "      <td>1.0</td>\n",
       "      <td>2.0</td>\n",
       "      <td>NaN</td>\n",
       "      <td>Takeaway</td>\n",
       "      <td>2023-12-30</td>\n",
       "    </tr>\n",
       "    <tr>\n",
       "      <th>9985</th>\n",
       "      <td>Cake</td>\n",
       "      <td>2</td>\n",
       "      <td>3.0</td>\n",
       "      <td>6.0</td>\n",
       "      <td>NaN</td>\n",
       "      <td>UNKNOWN</td>\n",
       "      <td>2023-01-03</td>\n",
       "    </tr>\n",
       "    <tr>\n",
       "      <th>9994</th>\n",
       "      <td>UNKNOWN</td>\n",
       "      <td>4</td>\n",
       "      <td>4.0</td>\n",
       "      <td>16.0</td>\n",
       "      <td>NaN</td>\n",
       "      <td>NaN</td>\n",
       "      <td>2023-01-08</td>\n",
       "    </tr>\n",
       "    <tr>\n",
       "      <th>9995</th>\n",
       "      <td>Coffee</td>\n",
       "      <td>2</td>\n",
       "      <td>2.0</td>\n",
       "      <td>4.0</td>\n",
       "      <td>NaN</td>\n",
       "      <td>UNKNOWN</td>\n",
       "      <td>2023-08-30</td>\n",
       "    </tr>\n",
       "  </tbody>\n",
       "</table>\n",
       "<p>2579 rows × 7 columns</p>\n",
       "</div>"
      ],
      "text/plain": [
       "          Item Quantity Price_per_unit Total_spent Payment_method  Location  \\\n",
       "8          NaN        5            3.0        15.0            NaN  Takeaway   \n",
       "9     Sandwich        5            4.0        20.0            NaN  In-store   \n",
       "13      Cookie        5            1.0         5.0            NaN  Takeaway   \n",
       "14       ERROR        2            1.5         3.0            NaN  In-store   \n",
       "16    Sandwich        1            4.0         4.0            NaN       NaN   \n",
       "...        ...      ...            ...         ...            ...       ...   \n",
       "9978       Tea        3            1.5         4.5            NaN       NaN   \n",
       "9982    Cookie        2            1.0         2.0            NaN  Takeaway   \n",
       "9985      Cake        2            3.0         6.0            NaN   UNKNOWN   \n",
       "9994   UNKNOWN        4            4.0        16.0            NaN       NaN   \n",
       "9995    Coffee        2            2.0         4.0            NaN   UNKNOWN   \n",
       "\n",
       "      Trans_date  \n",
       "8     2023-07-28  \n",
       "9     2023-12-31  \n",
       "13    2023-06-01  \n",
       "14    2023-03-21  \n",
       "16    2023-06-10  \n",
       "...          ...  \n",
       "9978  2023-02-16  \n",
       "9982  2023-12-30  \n",
       "9985  2023-01-03  \n",
       "9994  2023-01-08  \n",
       "9995  2023-08-30  \n",
       "\n",
       "[2579 rows x 7 columns]"
      ]
     },
     "execution_count": 110,
     "metadata": {},
     "output_type": "execute_result"
    }
   ],
   "source": [
    "data[data.Payment_method.isnull()]"
   ]
  },
  {
   "cell_type": "code",
   "execution_count": 111,
   "id": "e7b85644-f4d0-407f-999d-da63a6ca3895",
   "metadata": {},
   "outputs": [
    {
     "data": {
      "text/plain": [
       "0          Credit Card\n",
       "1                 Cash\n",
       "2          Credit Card\n",
       "3              UNKNOWN\n",
       "4       Digital Wallet\n",
       "             ...      \n",
       "9995               NaN\n",
       "9996    Digital Wallet\n",
       "9997    Digital Wallet\n",
       "9998    Digital Wallet\n",
       "9999              Cash\n",
       "Name: Payment_method, Length: 10000, dtype: object"
      ]
     },
     "execution_count": 111,
     "metadata": {},
     "output_type": "execute_result"
    }
   ],
   "source": [
    "data.Payment_method"
   ]
  },
  {
   "cell_type": "code",
   "execution_count": 112,
   "id": "3ae0660b-e214-46c9-b9c6-c08802d3370a",
   "metadata": {},
   "outputs": [
    {
     "data": {
      "text/html": [
       "<div>\n",
       "<style scoped>\n",
       "    .dataframe tbody tr th:only-of-type {\n",
       "        vertical-align: middle;\n",
       "    }\n",
       "\n",
       "    .dataframe tbody tr th {\n",
       "        vertical-align: top;\n",
       "    }\n",
       "\n",
       "    .dataframe thead th {\n",
       "        text-align: right;\n",
       "    }\n",
       "</style>\n",
       "<table border=\"1\" class=\"dataframe\">\n",
       "  <thead>\n",
       "    <tr style=\"text-align: right;\">\n",
       "      <th></th>\n",
       "      <th>Item</th>\n",
       "      <th>Quantity</th>\n",
       "      <th>Price_per_unit</th>\n",
       "      <th>Total_spent</th>\n",
       "      <th>Payment_method</th>\n",
       "      <th>Location</th>\n",
       "      <th>Trans_date</th>\n",
       "    </tr>\n",
       "  </thead>\n",
       "  <tbody>\n",
       "    <tr>\n",
       "      <th>1</th>\n",
       "      <td>Cake</td>\n",
       "      <td>4</td>\n",
       "      <td>3.0</td>\n",
       "      <td>12.0</td>\n",
       "      <td>Cash</td>\n",
       "      <td>In-store</td>\n",
       "      <td>2023-05-16</td>\n",
       "    </tr>\n",
       "    <tr>\n",
       "      <th>2</th>\n",
       "      <td>Cookie</td>\n",
       "      <td>4</td>\n",
       "      <td>1.0</td>\n",
       "      <td>ERROR</td>\n",
       "      <td>Credit Card</td>\n",
       "      <td>In-store</td>\n",
       "      <td>2023-07-19</td>\n",
       "    </tr>\n",
       "    <tr>\n",
       "      <th>4</th>\n",
       "      <td>Coffee</td>\n",
       "      <td>2</td>\n",
       "      <td>2.0</td>\n",
       "      <td>4.0</td>\n",
       "      <td>Digital Wallet</td>\n",
       "      <td>In-store</td>\n",
       "      <td>2023-06-11</td>\n",
       "    </tr>\n",
       "    <tr>\n",
       "      <th>9</th>\n",
       "      <td>Sandwich</td>\n",
       "      <td>5</td>\n",
       "      <td>4.0</td>\n",
       "      <td>20.0</td>\n",
       "      <td>NaN</td>\n",
       "      <td>In-store</td>\n",
       "      <td>2023-12-31</td>\n",
       "    </tr>\n",
       "    <tr>\n",
       "      <th>12</th>\n",
       "      <td>Sandwich</td>\n",
       "      <td>2</td>\n",
       "      <td>4.0</td>\n",
       "      <td>8.0</td>\n",
       "      <td>Cash</td>\n",
       "      <td>In-store</td>\n",
       "      <td>2023-05-03</td>\n",
       "    </tr>\n",
       "    <tr>\n",
       "      <th>...</th>\n",
       "      <td>...</td>\n",
       "      <td>...</td>\n",
       "      <td>...</td>\n",
       "      <td>...</td>\n",
       "      <td>...</td>\n",
       "      <td>...</td>\n",
       "      <td>...</td>\n",
       "    </tr>\n",
       "    <tr>\n",
       "      <th>9977</th>\n",
       "      <td>Juice</td>\n",
       "      <td>2</td>\n",
       "      <td>3.0</td>\n",
       "      <td>ERROR</td>\n",
       "      <td>Digital Wallet</td>\n",
       "      <td>In-store</td>\n",
       "      <td>2023-11-04</td>\n",
       "    </tr>\n",
       "    <tr>\n",
       "      <th>9979</th>\n",
       "      <td>Smoothie</td>\n",
       "      <td>5</td>\n",
       "      <td>4.0</td>\n",
       "      <td>20.0</td>\n",
       "      <td>Cash</td>\n",
       "      <td>In-store</td>\n",
       "      <td>2023-07-20</td>\n",
       "    </tr>\n",
       "    <tr>\n",
       "      <th>9986</th>\n",
       "      <td>Sandwich</td>\n",
       "      <td>2</td>\n",
       "      <td>4.0</td>\n",
       "      <td>8.0</td>\n",
       "      <td>Credit Card</td>\n",
       "      <td>In-store</td>\n",
       "      <td>2023-12-14</td>\n",
       "    </tr>\n",
       "    <tr>\n",
       "      <th>9992</th>\n",
       "      <td>Smoothie</td>\n",
       "      <td>4</td>\n",
       "      <td>4.0</td>\n",
       "      <td>16.0</td>\n",
       "      <td>UNKNOWN</td>\n",
       "      <td>In-store</td>\n",
       "      <td>2023-07-05</td>\n",
       "    </tr>\n",
       "    <tr>\n",
       "      <th>9999</th>\n",
       "      <td>Sandwich</td>\n",
       "      <td>3</td>\n",
       "      <td>4.0</td>\n",
       "      <td>12.0</td>\n",
       "      <td>Cash</td>\n",
       "      <td>In-store</td>\n",
       "      <td>2023-11-07</td>\n",
       "    </tr>\n",
       "  </tbody>\n",
       "</table>\n",
       "<p>3017 rows × 7 columns</p>\n",
       "</div>"
      ],
      "text/plain": [
       "          Item Quantity Price_per_unit Total_spent  Payment_method  Location  \\\n",
       "1         Cake        4            3.0        12.0            Cash  In-store   \n",
       "2       Cookie        4            1.0       ERROR     Credit Card  In-store   \n",
       "4       Coffee        2            2.0         4.0  Digital Wallet  In-store   \n",
       "9     Sandwich        5            4.0        20.0             NaN  In-store   \n",
       "12    Sandwich        2            4.0         8.0            Cash  In-store   \n",
       "...        ...      ...            ...         ...             ...       ...   \n",
       "9977     Juice        2            3.0       ERROR  Digital Wallet  In-store   \n",
       "9979  Smoothie        5            4.0        20.0            Cash  In-store   \n",
       "9986  Sandwich        2            4.0         8.0     Credit Card  In-store   \n",
       "9992  Smoothie        4            4.0        16.0         UNKNOWN  In-store   \n",
       "9999  Sandwich        3            4.0        12.0            Cash  In-store   \n",
       "\n",
       "      Trans_date  \n",
       "1     2023-05-16  \n",
       "2     2023-07-19  \n",
       "4     2023-06-11  \n",
       "9     2023-12-31  \n",
       "12    2023-05-03  \n",
       "...          ...  \n",
       "9977  2023-11-04  \n",
       "9979  2023-07-20  \n",
       "9986  2023-12-14  \n",
       "9992  2023-07-05  \n",
       "9999  2023-11-07  \n",
       "\n",
       "[3017 rows x 7 columns]"
      ]
     },
     "execution_count": 112,
     "metadata": {},
     "output_type": "execute_result"
    }
   ],
   "source": [
    "data[data.Location == 'In-store']"
   ]
  },
  {
   "cell_type": "code",
   "execution_count": 113,
   "id": "058b5f54-06b1-43b6-8f74-bc1911474ac0",
   "metadata": {},
   "outputs": [
    {
     "name": "stdout",
     "output_type": "stream",
     "text": [
      "74.21% of data available\n",
      "26% of data missing\n"
     ]
    }
   ],
   "source": [
    "print(\"{}% of data available\".format((data['Payment_method'].value_counts().sum()/len(data.Payment_method))*100))\n",
    "print(\"{}% of data missing\".format(round(data.Payment_method.isnull().mean()*100))) #around 26% data missing,can't replace the missing values with mode"
   ]
  },
  {
   "cell_type": "code",
   "execution_count": 114,
   "id": "ef8c1cc9-c9ae-4115-89fa-720ad6756dd9",
   "metadata": {},
   "outputs": [
    {
     "data": {
      "image/png": "[encoded data removed]",
      "text/plain": [
       "<Figure size 640x480 with 1 Axes>"
      ]
     },
     "metadata": {},
     "output_type": "display_data"
    }
   ],
   "source": [
    "data.Payment_method.value_counts().sort_values(ascending=False).plot.bar()\n",
    "plt.xlabel('Payment Method')\n",
    "plt.ylabel('Count')\n",
    "plt.show()"
   ]
  },
  {
   "cell_type": "code",
   "execution_count": 115,
   "id": "c70a39ca-8d69-4703-85af-44adfd73cb0b",
   "metadata": {},
   "outputs": [
    {
     "data": {
      "text/html": [
       "<div>\n",
       "<style scoped>\n",
       "    .dataframe tbody tr th:only-of-type {\n",
       "        vertical-align: middle;\n",
       "    }\n",
       "\n",
       "    .dataframe tbody tr th {\n",
       "        vertical-align: top;\n",
       "    }\n",
       "\n",
       "    .dataframe thead th {\n",
       "        text-align: right;\n",
       "    }\n",
       "</style>\n",
       "<table border=\"1\" class=\"dataframe\">\n",
       "  <thead>\n",
       "    <tr style=\"text-align: right;\">\n",
       "      <th></th>\n",
       "      <th>Item</th>\n",
       "      <th>Quantity</th>\n",
       "      <th>Price_per_unit</th>\n",
       "      <th>Total_spent</th>\n",
       "      <th>Payment_method</th>\n",
       "      <th>Location</th>\n",
       "      <th>Trans_date</th>\n",
       "    </tr>\n",
       "  </thead>\n",
       "  <tbody>\n",
       "    <tr>\n",
       "      <th>3</th>\n",
       "      <td>Salad</td>\n",
       "      <td>2</td>\n",
       "      <td>5.0</td>\n",
       "      <td>10.0</td>\n",
       "      <td>UNKNOWN</td>\n",
       "      <td>UNKNOWN</td>\n",
       "      <td>2023-04-27</td>\n",
       "    </tr>\n",
       "    <tr>\n",
       "      <th>25</th>\n",
       "      <td>Smoothie</td>\n",
       "      <td>3</td>\n",
       "      <td>4.0</td>\n",
       "      <td>NaN</td>\n",
       "      <td>UNKNOWN</td>\n",
       "      <td>UNKNOWN</td>\n",
       "      <td>2023-12-13</td>\n",
       "    </tr>\n",
       "    <tr>\n",
       "      <th>120</th>\n",
       "      <td>Cake</td>\n",
       "      <td>2</td>\n",
       "      <td>3.0</td>\n",
       "      <td>6.0</td>\n",
       "      <td>UNKNOWN</td>\n",
       "      <td>NaN</td>\n",
       "      <td>2023-06-02</td>\n",
       "    </tr>\n",
       "    <tr>\n",
       "      <th>145</th>\n",
       "      <td>Tea</td>\n",
       "      <td>5</td>\n",
       "      <td>1.5</td>\n",
       "      <td>7.5</td>\n",
       "      <td>UNKNOWN</td>\n",
       "      <td>In-store</td>\n",
       "      <td>2023-09-03</td>\n",
       "    </tr>\n",
       "    <tr>\n",
       "      <th>181</th>\n",
       "      <td>Smoothie</td>\n",
       "      <td>3</td>\n",
       "      <td>4.0</td>\n",
       "      <td>12.0</td>\n",
       "      <td>UNKNOWN</td>\n",
       "      <td>Takeaway</td>\n",
       "      <td>2023-03-26</td>\n",
       "    </tr>\n",
       "    <tr>\n",
       "      <th>...</th>\n",
       "      <td>...</td>\n",
       "      <td>...</td>\n",
       "      <td>...</td>\n",
       "      <td>...</td>\n",
       "      <td>...</td>\n",
       "      <td>...</td>\n",
       "      <td>...</td>\n",
       "    </tr>\n",
       "    <tr>\n",
       "      <th>9863</th>\n",
       "      <td>Cake</td>\n",
       "      <td>4</td>\n",
       "      <td>3.0</td>\n",
       "      <td>12.0</td>\n",
       "      <td>UNKNOWN</td>\n",
       "      <td>NaN</td>\n",
       "      <td>2023-10-06</td>\n",
       "    </tr>\n",
       "    <tr>\n",
       "      <th>9872</th>\n",
       "      <td>Cake</td>\n",
       "      <td>5</td>\n",
       "      <td>3.0</td>\n",
       "      <td>15.0</td>\n",
       "      <td>UNKNOWN</td>\n",
       "      <td>UNKNOWN</td>\n",
       "      <td>2023-11-26</td>\n",
       "    </tr>\n",
       "    <tr>\n",
       "      <th>9972</th>\n",
       "      <td>Cake</td>\n",
       "      <td>4</td>\n",
       "      <td>3.0</td>\n",
       "      <td>12.0</td>\n",
       "      <td>UNKNOWN</td>\n",
       "      <td>In-store</td>\n",
       "      <td>2023-08-06</td>\n",
       "    </tr>\n",
       "    <tr>\n",
       "      <th>9980</th>\n",
       "      <td>Tea</td>\n",
       "      <td>4</td>\n",
       "      <td>1.5</td>\n",
       "      <td>6.0</td>\n",
       "      <td>UNKNOWN</td>\n",
       "      <td>NaN</td>\n",
       "      <td>2023-08-24</td>\n",
       "    </tr>\n",
       "    <tr>\n",
       "      <th>9992</th>\n",
       "      <td>Smoothie</td>\n",
       "      <td>4</td>\n",
       "      <td>4.0</td>\n",
       "      <td>16.0</td>\n",
       "      <td>UNKNOWN</td>\n",
       "      <td>In-store</td>\n",
       "      <td>2023-07-05</td>\n",
       "    </tr>\n",
       "  </tbody>\n",
       "</table>\n",
       "<p>293 rows × 7 columns</p>\n",
       "</div>"
      ],
      "text/plain": [
       "          Item Quantity Price_per_unit Total_spent Payment_method  Location  \\\n",
       "3        Salad        2            5.0        10.0        UNKNOWN   UNKNOWN   \n",
       "25    Smoothie        3            4.0         NaN        UNKNOWN   UNKNOWN   \n",
       "120       Cake        2            3.0         6.0        UNKNOWN       NaN   \n",
       "145        Tea        5            1.5         7.5        UNKNOWN  In-store   \n",
       "181   Smoothie        3            4.0        12.0        UNKNOWN  Takeaway   \n",
       "...        ...      ...            ...         ...            ...       ...   \n",
       "9863      Cake        4            3.0        12.0        UNKNOWN       NaN   \n",
       "9872      Cake        5            3.0        15.0        UNKNOWN   UNKNOWN   \n",
       "9972      Cake        4            3.0        12.0        UNKNOWN  In-store   \n",
       "9980       Tea        4            1.5         6.0        UNKNOWN       NaN   \n",
       "9992  Smoothie        4            4.0        16.0        UNKNOWN  In-store   \n",
       "\n",
       "      Trans_date  \n",
       "3     2023-04-27  \n",
       "25    2023-12-13  \n",
       "120   2023-06-02  \n",
       "145   2023-09-03  \n",
       "181   2023-03-26  \n",
       "...          ...  \n",
       "9863  2023-10-06  \n",
       "9872  2023-11-26  \n",
       "9972  2023-08-06  \n",
       "9980  2023-08-24  \n",
       "9992  2023-07-05  \n",
       "\n",
       "[293 rows x 7 columns]"
      ]
     },
     "execution_count": 115,
     "metadata": {},
     "output_type": "execute_result"
    }
   ],
   "source": [
    "data[data.Payment_method == 'UNKNOWN']"
   ]
  },
  {
   "cell_type": "code",
   "execution_count": 116,
   "id": "d81617bc-f4d4-4a1f-a460-73bec6cbe229",
   "metadata": {},
   "outputs": [],
   "source": [
    "data.Payment_method.fillna('Missing',inplace=True)"
   ]
  },
  {
   "cell_type": "code",
   "execution_count": 117,
   "id": "ea414fb9-bfa1-480c-81b2-fcb705141b00",
   "metadata": {},
   "outputs": [
    {
     "data": {
      "image/png": "[encoded data removed]",
      "text/plain": [
       "<Figure size 640x480 with 1 Axes>"
      ]
     },
     "metadata": {},
     "output_type": "display_data"
    }
   ],
   "source": [
    "data.Payment_method.value_counts().plot(kind='bar')\n",
    "plt.show()"
   ]
  },
  {
   "cell_type": "code",
   "execution_count": 118,
   "id": "3c1da9b9-e790-474c-84bf-056a1b887cf8",
   "metadata": {},
   "outputs": [
    {
     "name": "stdout",
     "output_type": "stream",
     "text": [
      "Location\n",
      "Takeaway    3022\n",
      "In-store    3017\n",
      "ERROR        358\n",
      "UNKNOWN      338\n",
      "Name: count, dtype: int64\n",
      "3265\n"
     ]
    }
   ],
   "source": [
    "print(data.Location.value_counts())\n",
    "print(data.Location.isnull().sum())"
   ]
  },
  {
   "cell_type": "code",
   "execution_count": 119,
   "id": "28e35b2d-b45d-4328-8f48-e562e8b7f4d4",
   "metadata": {},
   "outputs": [
    {
     "data": {
      "text/plain": [
       "33"
      ]
     },
     "execution_count": 119,
     "metadata": {},
     "output_type": "execute_result"
    }
   ],
   "source": [
    "round(data.Location.isnull().mean()*100)"
   ]
  },
  {
   "cell_type": "code",
   "execution_count": 120,
   "id": "3b8ec7ee-96f9-4413-b193-0f6da7a51576",
   "metadata": {},
   "outputs": [
    {
     "data": {
      "image/png": "[encoded data removed]",
      "text/plain": [
       "<Figure size 640x480 with 1 Axes>"
      ]
     },
     "metadata": {},
     "output_type": "display_data"
    }
   ],
   "source": [
    "data.Location.value_counts().plot(kind='bar')\n",
    "plt.show()"
   ]
  },
  {
   "cell_type": "code",
   "execution_count": 121,
   "id": "3393b7b9-9725-4417-89f6-87b646fd477e",
   "metadata": {
    "scrolled": true
   },
   "outputs": [
    {
     "data": {
      "text/html": [
       "<div>\n",
       "<style scoped>\n",
       "    .dataframe tbody tr th:only-of-type {\n",
       "        vertical-align: middle;\n",
       "    }\n",
       "\n",
       "    .dataframe tbody tr th {\n",
       "        vertical-align: top;\n",
       "    }\n",
       "\n",
       "    .dataframe thead th {\n",
       "        text-align: right;\n",
       "    }\n",
       "</style>\n",
       "<table border=\"1\" class=\"dataframe\">\n",
       "  <thead>\n",
       "    <tr style=\"text-align: right;\">\n",
       "      <th></th>\n",
       "      <th>Item</th>\n",
       "      <th>Quantity</th>\n",
       "      <th>Price_per_unit</th>\n",
       "      <th>Total_spent</th>\n",
       "      <th>Payment_method</th>\n",
       "      <th>Location</th>\n",
       "      <th>Trans_date</th>\n",
       "    </tr>\n",
       "  </thead>\n",
       "  <tbody>\n",
       "    <tr>\n",
       "      <th>3</th>\n",
       "      <td>Salad</td>\n",
       "      <td>2</td>\n",
       "      <td>5.0</td>\n",
       "      <td>10.0</td>\n",
       "      <td>UNKNOWN</td>\n",
       "      <td>UNKNOWN</td>\n",
       "      <td>2023-04-27</td>\n",
       "    </tr>\n",
       "    <tr>\n",
       "      <th>7</th>\n",
       "      <td>Sandwich</td>\n",
       "      <td>4</td>\n",
       "      <td>4.0</td>\n",
       "      <td>16.0</td>\n",
       "      <td>Cash</td>\n",
       "      <td>UNKNOWN</td>\n",
       "      <td>2023-10-28</td>\n",
       "    </tr>\n",
       "    <tr>\n",
       "      <th>25</th>\n",
       "      <td>Smoothie</td>\n",
       "      <td>3</td>\n",
       "      <td>4.0</td>\n",
       "      <td>NaN</td>\n",
       "      <td>UNKNOWN</td>\n",
       "      <td>UNKNOWN</td>\n",
       "      <td>2023-12-13</td>\n",
       "    </tr>\n",
       "    <tr>\n",
       "      <th>35</th>\n",
       "      <td>Sandwich</td>\n",
       "      <td>1</td>\n",
       "      <td>4.0</td>\n",
       "      <td>4.0</td>\n",
       "      <td>Credit Card</td>\n",
       "      <td>UNKNOWN</td>\n",
       "      <td>2023-05-28</td>\n",
       "    </tr>\n",
       "    <tr>\n",
       "      <th>85</th>\n",
       "      <td>Tea</td>\n",
       "      <td>3</td>\n",
       "      <td>NaN</td>\n",
       "      <td>4.5</td>\n",
       "      <td>Cash</td>\n",
       "      <td>UNKNOWN</td>\n",
       "      <td>2023-10-29</td>\n",
       "    </tr>\n",
       "    <tr>\n",
       "      <th>...</th>\n",
       "      <td>...</td>\n",
       "      <td>...</td>\n",
       "      <td>...</td>\n",
       "      <td>...</td>\n",
       "      <td>...</td>\n",
       "      <td>...</td>\n",
       "      <td>...</td>\n",
       "    </tr>\n",
       "    <tr>\n",
       "      <th>9910</th>\n",
       "      <td>ERROR</td>\n",
       "      <td>2</td>\n",
       "      <td>3.0</td>\n",
       "      <td>6.0</td>\n",
       "      <td>Digital Wallet</td>\n",
       "      <td>UNKNOWN</td>\n",
       "      <td>2023-01-12</td>\n",
       "    </tr>\n",
       "    <tr>\n",
       "      <th>9913</th>\n",
       "      <td>Tea</td>\n",
       "      <td>1</td>\n",
       "      <td>1.5</td>\n",
       "      <td>1.5</td>\n",
       "      <td>Credit Card</td>\n",
       "      <td>UNKNOWN</td>\n",
       "      <td>2023-12-13</td>\n",
       "    </tr>\n",
       "    <tr>\n",
       "      <th>9931</th>\n",
       "      <td>Smoothie</td>\n",
       "      <td>2</td>\n",
       "      <td>4.0</td>\n",
       "      <td>8.0</td>\n",
       "      <td>Missing</td>\n",
       "      <td>UNKNOWN</td>\n",
       "      <td>NaN</td>\n",
       "    </tr>\n",
       "    <tr>\n",
       "      <th>9985</th>\n",
       "      <td>Cake</td>\n",
       "      <td>2</td>\n",
       "      <td>3.0</td>\n",
       "      <td>6.0</td>\n",
       "      <td>Missing</td>\n",
       "      <td>UNKNOWN</td>\n",
       "      <td>2023-01-03</td>\n",
       "    </tr>\n",
       "    <tr>\n",
       "      <th>9995</th>\n",
       "      <td>Coffee</td>\n",
       "      <td>2</td>\n",
       "      <td>2.0</td>\n",
       "      <td>4.0</td>\n",
       "      <td>Missing</td>\n",
       "      <td>UNKNOWN</td>\n",
       "      <td>2023-08-30</td>\n",
       "    </tr>\n",
       "  </tbody>\n",
       "</table>\n",
       "<p>338 rows × 7 columns</p>\n",
       "</div>"
      ],
      "text/plain": [
       "          Item Quantity Price_per_unit Total_spent  Payment_method Location  \\\n",
       "3        Salad        2            5.0        10.0         UNKNOWN  UNKNOWN   \n",
       "7     Sandwich        4            4.0        16.0            Cash  UNKNOWN   \n",
       "25    Smoothie        3            4.0         NaN         UNKNOWN  UNKNOWN   \n",
       "35    Sandwich        1            4.0         4.0     Credit Card  UNKNOWN   \n",
       "85         Tea        3            NaN         4.5            Cash  UNKNOWN   \n",
       "...        ...      ...            ...         ...             ...      ...   \n",
       "9910     ERROR        2            3.0         6.0  Digital Wallet  UNKNOWN   \n",
       "9913       Tea        1            1.5         1.5     Credit Card  UNKNOWN   \n",
       "9931  Smoothie        2            4.0         8.0         Missing  UNKNOWN   \n",
       "9985      Cake        2            3.0         6.0         Missing  UNKNOWN   \n",
       "9995    Coffee        2            2.0         4.0         Missing  UNKNOWN   \n",
       "\n",
       "      Trans_date  \n",
       "3     2023-04-27  \n",
       "7     2023-10-28  \n",
       "25    2023-12-13  \n",
       "35    2023-05-28  \n",
       "85    2023-10-29  \n",
       "...          ...  \n",
       "9910  2023-01-12  \n",
       "9913  2023-12-13  \n",
       "9931         NaN  \n",
       "9985  2023-01-03  \n",
       "9995  2023-08-30  \n",
       "\n",
       "[338 rows x 7 columns]"
      ]
     },
     "execution_count": 121,
     "metadata": {},
     "output_type": "execute_result"
    }
   ],
   "source": [
    "data[data.Location == 'UNKNOWN']"
   ]
  },
  {
   "cell_type": "code",
   "execution_count": 122,
   "id": "49be572d-0611-4589-8d9e-c13f085cefd2",
   "metadata": {
    "collapsed": true,
    "jupyter": {
     "outputs_hidden": true
    }
   },
   "outputs": [
    {
     "name": "stderr",
     "output_type": "stream",
     "text": [
      "C:\\Users\\hp\\AppData\\Local\\Temp\\ipykernel_13308\\319771278.py:1: FutureWarning: A value is trying to be set on a copy of a DataFrame or Series through chained assignment using an inplace method.\n",
      "The behavior will change in pandas 3.0. This inplace method will never work because the intermediate object on which we are setting values always behaves as a copy.\n",
      "\n",
      "For example, when doing 'df[col].method(value, inplace=True)', try using 'df.method({col: value}, inplace=True)' or df[col] = df[col].method(value) instead, to perform the operation inplace on the original object.\n",
      "\n",
      "\n",
      "  data.Location.fillna('Missing',inplace=True)\n"
     ]
    }
   ],
   "source": [
    "data.Location.fillna('Missing',inplace=True)"
   ]
  },
  {
   "cell_type": "code",
   "execution_count": 123,
   "id": "0486d830-7edc-4d2c-a7b1-3fc14ddcfff0",
   "metadata": {},
   "outputs": [
    {
     "data": {
      "image/png": "[encoded data removed]",
      "text/plain": [
       "<Figure size 640x480 with 1 Axes>"
      ]
     },
     "metadata": {},
     "output_type": "display_data"
    }
   ],
   "source": [
    "data.Location.value_counts().plot(kind='bar')\n",
    "plt.show()"
   ]
  },
  {
   "cell_type": "code",
   "execution_count": 124,
   "id": "d5940629-8c7a-4835-a4a9-007a00be1a7b",
   "metadata": {},
   "outputs": [
    {
     "data": {
      "text/plain": [
       "3.3300000000000005"
      ]
     },
     "execution_count": 124,
     "metadata": {},
     "output_type": "execute_result"
    }
   ],
   "source": [
    "data.Item.isnull().mean()*100 # "
   ]
  },
  {
   "cell_type": "code",
   "execution_count": 125,
   "id": "4afc577a-3d9a-4b59-9d57-52f31a87665c",
   "metadata": {},
   "outputs": [
    {
     "data": {
      "text/plain": [
       "array(['Coffee', 'Cake', 'Cookie', 'Salad', 'Smoothie', 'UNKNOWN',\n",
       "       'Sandwich', nan, 'ERROR', 'Juice', 'Tea'], dtype=object)"
      ]
     },
     "execution_count": 125,
     "metadata": {},
     "output_type": "execute_result"
    }
   ],
   "source": [
    "data.Item.unique()"
   ]
  },
  {
   "cell_type": "code",
   "execution_count": 126,
   "id": "9d38cb02-5ee5-4bd5-8b87-fb1e17a89689",
   "metadata": {},
   "outputs": [
    {
     "data": {
      "image/png": "[encoded data removed]",
      "text/plain": [
       "<Figure size 640x480 with 1 Axes>"
      ]
     },
     "metadata": {},
     "output_type": "display_data"
    }
   ],
   "source": [
    "data.Item.value_counts().plot.bar()\n",
    "plt.show()"
   ]
  },
  {
   "cell_type": "code",
   "execution_count": 127,
   "id": "a136f4a0-2c9d-4e96-ac6a-aca8b4509daa",
   "metadata": {
    "collapsed": true,
    "jupyter": {
     "outputs_hidden": true
    }
   },
   "outputs": [
    {
     "name": "stderr",
     "output_type": "stream",
     "text": [
      "C:\\Users\\hp\\AppData\\Local\\Temp\\ipykernel_13308\\1552470555.py:1: DeprecationWarning: DataFrameGroupBy.apply operated on the grouping columns. This behavior is deprecated, and in a future version of pandas the grouping columns will be excluded from the operation. Either pass `include_groups=False` to exclude the groupings or explicitly select the grouping columns after groupby to silence this warning.\n",
      "  data_group_item = data.groupby('Item').apply(lambda row : row['Price_per_unit'].mode()).reset_index()\n"
     ]
    }
   ],
   "source": [
    "data_group_item = data.groupby('Item').apply(lambda row : row['Price_per_unit'].mode()).reset_index()"
   ]
  },
  {
   "cell_type": "code",
   "execution_count": 128,
   "id": "6c209585-cbaa-4add-ac38-0fba2961bcee",
   "metadata": {},
   "outputs": [],
   "source": [
    "data_group_item.columns = ['Item','Price']"
   ]
  },
  {
   "cell_type": "code",
   "execution_count": 129,
   "id": "806d4c83-fc4c-4274-9807-72f80001f41d",
   "metadata": {},
   "outputs": [],
   "source": [
    "dict_data_price = data_group_item.set_index('Item')['Price'].to_dict()"
   ]
  },
  {
   "cell_type": "code",
   "execution_count": 130,
   "id": "fe279e05-8422-4cca-9d5b-9bb8adac2b83",
   "metadata": {},
   "outputs": [
    {
     "data": {
      "text/plain": [
       "{'Cake': '3.0',\n",
       " 'Coffee': '2.0',\n",
       " 'Cookie': '1.0',\n",
       " 'ERROR': '3.0',\n",
       " 'Juice': '3.0',\n",
       " 'Salad': '5.0',\n",
       " 'Sandwich': '4.0',\n",
       " 'Smoothie': '4.0',\n",
       " 'Tea': '1.5',\n",
       " 'UNKNOWN': '3.0'}"
      ]
     },
     "execution_count": 130,
     "metadata": {},
     "output_type": "execute_result"
    }
   ],
   "source": [
    "dict_data_price"
   ]
  },
  {
   "cell_type": "code",
   "execution_count": 131,
   "id": "a68997b3-f15c-4c4f-bdcf-a48a965ed70b",
   "metadata": {},
   "outputs": [],
   "source": [
    "keys_to_remove = ['UNKNOWN', 'ERROR']  \n",
    "for key in keys_to_remove:\n",
    "    dict_data_price.pop(key, None)"
   ]
  },
  {
   "cell_type": "code",
   "execution_count": 132,
   "id": "fa97a89a-b5a4-440f-9eee-3163ad663f30",
   "metadata": {},
   "outputs": [
    {
     "data": {
      "text/plain": [
       "dict_keys(['Cake', 'Coffee', 'Cookie', 'Juice', 'Salad', 'Sandwich', 'Smoothie', 'Tea'])"
      ]
     },
     "execution_count": 132,
     "metadata": {},
     "output_type": "execute_result"
    }
   ],
   "source": [
    "dict_data_price.keys()"
   ]
  },
  {
   "cell_type": "code",
   "execution_count": 133,
   "id": "5de87ff5-6ddd-4a0d-bf5f-39b8c9cf0145",
   "metadata": {},
   "outputs": [
    {
     "data": {
      "text/plain": [
       "{'Cake': '3.0',\n",
       " 'Coffee': '2.0',\n",
       " 'Cookie': '1.0',\n",
       " 'Juice': '3.0',\n",
       " 'Salad': '5.0',\n",
       " 'Sandwich': '4.0',\n",
       " 'Smoothie': '4.0',\n",
       " 'Tea': '1.5'}"
      ]
     },
     "execution_count": 133,
     "metadata": {},
     "output_type": "execute_result"
    }
   ],
   "source": [
    "dict_data_price"
   ]
  },
  {
   "cell_type": "code",
   "execution_count": 134,
   "id": "6a26d9bb-0106-4c30-a927-4ebb77b46fcf",
   "metadata": {},
   "outputs": [],
   "source": [
    "for i in range(len(data)):\n",
    "    Quant = data.loc[i,'Quantity']\n",
    "    Spent = data.loc[i,'Total_spent']\n",
    "    if pd.notna(Quant) and pd.notna(Spent):\n",
    "        if Quant not in ['ERROR','UNKNOWN'] and Spent not in ['ERROR','UNKNOWN'] :\n",
    "            Spent = pd.to_numeric(Spent)\n",
    "            Quant = pd.to_numeric(Quant)\n",
    "            data.loc[i,'Price_per_unit'] = int(Spent)/int(Quant)\n",
    "    else:\n",
    "        continue"
   ]
  },
  {
   "cell_type": "code",
   "execution_count": 135,
   "id": "ca618fb6",
   "metadata": {},
   "outputs": [
    {
     "data": {
      "text/html": [
       "<div>\n",
       "<style scoped>\n",
       "    .dataframe tbody tr th:only-of-type {\n",
       "        vertical-align: middle;\n",
       "    }\n",
       "\n",
       "    .dataframe tbody tr th {\n",
       "        vertical-align: top;\n",
       "    }\n",
       "\n",
       "    .dataframe thead th {\n",
       "        text-align: right;\n",
       "    }\n",
       "</style>\n",
       "<table border=\"1\" class=\"dataframe\">\n",
       "  <thead>\n",
       "    <tr style=\"text-align: right;\">\n",
       "      <th></th>\n",
       "      <th>Item</th>\n",
       "      <th>Quantity</th>\n",
       "      <th>Price_per_unit</th>\n",
       "      <th>Total_spent</th>\n",
       "      <th>Payment_method</th>\n",
       "      <th>Location</th>\n",
       "      <th>Trans_date</th>\n",
       "    </tr>\n",
       "  </thead>\n",
       "  <tbody>\n",
       "    <tr>\n",
       "      <th>42</th>\n",
       "      <td>Tea</td>\n",
       "      <td>2</td>\n",
       "      <td>1.5</td>\n",
       "      <td>UNKNOWN</td>\n",
       "      <td>Missing</td>\n",
       "      <td>Takeaway</td>\n",
       "      <td>2023-01-10</td>\n",
       "    </tr>\n",
       "    <tr>\n",
       "      <th>70</th>\n",
       "      <td>Tea</td>\n",
       "      <td>2</td>\n",
       "      <td>1.5</td>\n",
       "      <td>3.0</td>\n",
       "      <td>Cash</td>\n",
       "      <td>In-store</td>\n",
       "      <td>2023-03-22</td>\n",
       "    </tr>\n",
       "    <tr>\n",
       "      <th>78</th>\n",
       "      <td>Tea</td>\n",
       "      <td>5</td>\n",
       "      <td>1.4</td>\n",
       "      <td>7.5</td>\n",
       "      <td>Cash</td>\n",
       "      <td>Missing</td>\n",
       "      <td>2023-06-02</td>\n",
       "    </tr>\n",
       "    <tr>\n",
       "      <th>85</th>\n",
       "      <td>Tea</td>\n",
       "      <td>3</td>\n",
       "      <td>1.333333</td>\n",
       "      <td>4.5</td>\n",
       "      <td>Cash</td>\n",
       "      <td>UNKNOWN</td>\n",
       "      <td>2023-10-29</td>\n",
       "    </tr>\n",
       "    <tr>\n",
       "      <th>90</th>\n",
       "      <td>Tea</td>\n",
       "      <td>2</td>\n",
       "      <td>1.5</td>\n",
       "      <td>3.0</td>\n",
       "      <td>Credit Card</td>\n",
       "      <td>In-store</td>\n",
       "      <td>2023-08-16</td>\n",
       "    </tr>\n",
       "    <tr>\n",
       "      <th>...</th>\n",
       "      <td>...</td>\n",
       "      <td>...</td>\n",
       "      <td>...</td>\n",
       "      <td>...</td>\n",
       "      <td>...</td>\n",
       "      <td>...</td>\n",
       "      <td>...</td>\n",
       "    </tr>\n",
       "    <tr>\n",
       "      <th>9961</th>\n",
       "      <td>Tea</td>\n",
       "      <td>2</td>\n",
       "      <td>1.5</td>\n",
       "      <td>3.0</td>\n",
       "      <td>Cash</td>\n",
       "      <td>Missing</td>\n",
       "      <td>2023-12-29</td>\n",
       "    </tr>\n",
       "    <tr>\n",
       "      <th>9965</th>\n",
       "      <td>Tea</td>\n",
       "      <td>2</td>\n",
       "      <td>1.5</td>\n",
       "      <td>3.0</td>\n",
       "      <td>Digital Wallet</td>\n",
       "      <td>Missing</td>\n",
       "      <td>2023-12-20</td>\n",
       "    </tr>\n",
       "    <tr>\n",
       "      <th>9974</th>\n",
       "      <td>Tea</td>\n",
       "      <td>4</td>\n",
       "      <td>1.5</td>\n",
       "      <td>6.0</td>\n",
       "      <td>Cash</td>\n",
       "      <td>In-store</td>\n",
       "      <td>2023-04-01</td>\n",
       "    </tr>\n",
       "    <tr>\n",
       "      <th>9978</th>\n",
       "      <td>Tea</td>\n",
       "      <td>3</td>\n",
       "      <td>1.333333</td>\n",
       "      <td>4.5</td>\n",
       "      <td>Missing</td>\n",
       "      <td>Missing</td>\n",
       "      <td>2023-02-16</td>\n",
       "    </tr>\n",
       "    <tr>\n",
       "      <th>9980</th>\n",
       "      <td>Tea</td>\n",
       "      <td>4</td>\n",
       "      <td>1.5</td>\n",
       "      <td>6.0</td>\n",
       "      <td>UNKNOWN</td>\n",
       "      <td>Missing</td>\n",
       "      <td>2023-08-24</td>\n",
       "    </tr>\n",
       "  </tbody>\n",
       "</table>\n",
       "<p>1089 rows × 7 columns</p>\n",
       "</div>"
      ],
      "text/plain": [
       "     Item Quantity Price_per_unit Total_spent  Payment_method  Location  \\\n",
       "42    Tea        2            1.5     UNKNOWN         Missing  Takeaway   \n",
       "70    Tea        2            1.5         3.0            Cash  In-store   \n",
       "78    Tea        5            1.4         7.5            Cash   Missing   \n",
       "85    Tea        3       1.333333         4.5            Cash   UNKNOWN   \n",
       "90    Tea        2            1.5         3.0     Credit Card  In-store   \n",
       "...   ...      ...            ...         ...             ...       ...   \n",
       "9961  Tea        2            1.5         3.0            Cash   Missing   \n",
       "9965  Tea        2            1.5         3.0  Digital Wallet   Missing   \n",
       "9974  Tea        4            1.5         6.0            Cash  In-store   \n",
       "9978  Tea        3       1.333333         4.5         Missing   Missing   \n",
       "9980  Tea        4            1.5         6.0         UNKNOWN   Missing   \n",
       "\n",
       "      Trans_date  \n",
       "42    2023-01-10  \n",
       "70    2023-03-22  \n",
       "78    2023-06-02  \n",
       "85    2023-10-29  \n",
       "90    2023-08-16  \n",
       "...          ...  \n",
       "9961  2023-12-29  \n",
       "9965  2023-12-20  \n",
       "9974  2023-04-01  \n",
       "9978  2023-02-16  \n",
       "9980  2023-08-24  \n",
       "\n",
       "[1089 rows x 7 columns]"
      ]
     },
     "execution_count": 135,
     "metadata": {},
     "output_type": "execute_result"
    }
   ],
   "source": [
    "data[data.Item == 'Tea']"
   ]
  },
  {
   "cell_type": "code",
   "execution_count": 136,
   "id": "1df55628-86a3-4fd0-aa2c-a734a0c28321",
   "metadata": {},
   "outputs": [],
   "source": [
    "# Total Spent :\n",
    "list_invalid = ['UNKNOWN','ERROR']\n",
    "for i in range(len(data)):\n",
    "    Quant = data.loc[i,'Quantity']\n",
    "    Price = data.loc[i,'Price_per_unit']\n",
    "    if pd.isna(data.loc[i,'Total_spent']) and pd.notna(Quant) and pd.notna(Price):\n",
    "        if Quant not in list_invalid and Price not in list_invalid:\n",
    "            Quant = pd.to_numeric(Quant)\n",
    "            Price = pd.to_numeric(Price)\n",
    "            data.loc[i,'Total_spent'] = int(Quant) * int(Price)"
   ]
  },
  {
   "cell_type": "code",
   "execution_count": 137,
   "id": "79d1ed93",
   "metadata": {},
   "outputs": [
    {
     "data": {
      "text/html": [
       "<div>\n",
       "<style scoped>\n",
       "    .dataframe tbody tr th:only-of-type {\n",
       "        vertical-align: middle;\n",
       "    }\n",
       "\n",
       "    .dataframe tbody tr th {\n",
       "        vertical-align: top;\n",
       "    }\n",
       "\n",
       "    .dataframe thead th {\n",
       "        text-align: right;\n",
       "    }\n",
       "</style>\n",
       "<table border=\"1\" class=\"dataframe\">\n",
       "  <thead>\n",
       "    <tr style=\"text-align: right;\">\n",
       "      <th></th>\n",
       "      <th>Item</th>\n",
       "      <th>Quantity</th>\n",
       "      <th>Price_per_unit</th>\n",
       "      <th>Total_spent</th>\n",
       "      <th>Payment_method</th>\n",
       "      <th>Location</th>\n",
       "      <th>Trans_date</th>\n",
       "    </tr>\n",
       "  </thead>\n",
       "  <tbody>\n",
       "    <tr>\n",
       "      <th>42</th>\n",
       "      <td>Tea</td>\n",
       "      <td>2</td>\n",
       "      <td>1.5</td>\n",
       "      <td>UNKNOWN</td>\n",
       "      <td>Missing</td>\n",
       "      <td>Takeaway</td>\n",
       "      <td>2023-01-10</td>\n",
       "    </tr>\n",
       "    <tr>\n",
       "      <th>70</th>\n",
       "      <td>Tea</td>\n",
       "      <td>2</td>\n",
       "      <td>1.5</td>\n",
       "      <td>3.0</td>\n",
       "      <td>Cash</td>\n",
       "      <td>In-store</td>\n",
       "      <td>2023-03-22</td>\n",
       "    </tr>\n",
       "    <tr>\n",
       "      <th>78</th>\n",
       "      <td>Tea</td>\n",
       "      <td>5</td>\n",
       "      <td>1.4</td>\n",
       "      <td>7.5</td>\n",
       "      <td>Cash</td>\n",
       "      <td>Missing</td>\n",
       "      <td>2023-06-02</td>\n",
       "    </tr>\n",
       "    <tr>\n",
       "      <th>85</th>\n",
       "      <td>Tea</td>\n",
       "      <td>3</td>\n",
       "      <td>1.333333</td>\n",
       "      <td>4.5</td>\n",
       "      <td>Cash</td>\n",
       "      <td>UNKNOWN</td>\n",
       "      <td>2023-10-29</td>\n",
       "    </tr>\n",
       "    <tr>\n",
       "      <th>90</th>\n",
       "      <td>Tea</td>\n",
       "      <td>2</td>\n",
       "      <td>1.5</td>\n",
       "      <td>3.0</td>\n",
       "      <td>Credit Card</td>\n",
       "      <td>In-store</td>\n",
       "      <td>2023-08-16</td>\n",
       "    </tr>\n",
       "    <tr>\n",
       "      <th>...</th>\n",
       "      <td>...</td>\n",
       "      <td>...</td>\n",
       "      <td>...</td>\n",
       "      <td>...</td>\n",
       "      <td>...</td>\n",
       "      <td>...</td>\n",
       "      <td>...</td>\n",
       "    </tr>\n",
       "    <tr>\n",
       "      <th>9961</th>\n",
       "      <td>Tea</td>\n",
       "      <td>2</td>\n",
       "      <td>1.5</td>\n",
       "      <td>3.0</td>\n",
       "      <td>Cash</td>\n",
       "      <td>Missing</td>\n",
       "      <td>2023-12-29</td>\n",
       "    </tr>\n",
       "    <tr>\n",
       "      <th>9965</th>\n",
       "      <td>Tea</td>\n",
       "      <td>2</td>\n",
       "      <td>1.5</td>\n",
       "      <td>3.0</td>\n",
       "      <td>Digital Wallet</td>\n",
       "      <td>Missing</td>\n",
       "      <td>2023-12-20</td>\n",
       "    </tr>\n",
       "    <tr>\n",
       "      <th>9974</th>\n",
       "      <td>Tea</td>\n",
       "      <td>4</td>\n",
       "      <td>1.5</td>\n",
       "      <td>6.0</td>\n",
       "      <td>Cash</td>\n",
       "      <td>In-store</td>\n",
       "      <td>2023-04-01</td>\n",
       "    </tr>\n",
       "    <tr>\n",
       "      <th>9978</th>\n",
       "      <td>Tea</td>\n",
       "      <td>3</td>\n",
       "      <td>1.333333</td>\n",
       "      <td>4.5</td>\n",
       "      <td>Missing</td>\n",
       "      <td>Missing</td>\n",
       "      <td>2023-02-16</td>\n",
       "    </tr>\n",
       "    <tr>\n",
       "      <th>9980</th>\n",
       "      <td>Tea</td>\n",
       "      <td>4</td>\n",
       "      <td>1.5</td>\n",
       "      <td>6.0</td>\n",
       "      <td>UNKNOWN</td>\n",
       "      <td>Missing</td>\n",
       "      <td>2023-08-24</td>\n",
       "    </tr>\n",
       "  </tbody>\n",
       "</table>\n",
       "<p>1089 rows × 7 columns</p>\n",
       "</div>"
      ],
      "text/plain": [
       "     Item Quantity Price_per_unit Total_spent  Payment_method  Location  \\\n",
       "42    Tea        2            1.5     UNKNOWN         Missing  Takeaway   \n",
       "70    Tea        2            1.5         3.0            Cash  In-store   \n",
       "78    Tea        5            1.4         7.5            Cash   Missing   \n",
       "85    Tea        3       1.333333         4.5            Cash   UNKNOWN   \n",
       "90    Tea        2            1.5         3.0     Credit Card  In-store   \n",
       "...   ...      ...            ...         ...             ...       ...   \n",
       "9961  Tea        2            1.5         3.0            Cash   Missing   \n",
       "9965  Tea        2            1.5         3.0  Digital Wallet   Missing   \n",
       "9974  Tea        4            1.5         6.0            Cash  In-store   \n",
       "9978  Tea        3       1.333333         4.5         Missing   Missing   \n",
       "9980  Tea        4            1.5         6.0         UNKNOWN   Missing   \n",
       "\n",
       "      Trans_date  \n",
       "42    2023-01-10  \n",
       "70    2023-03-22  \n",
       "78    2023-06-02  \n",
       "85    2023-10-29  \n",
       "90    2023-08-16  \n",
       "...          ...  \n",
       "9961  2023-12-29  \n",
       "9965  2023-12-20  \n",
       "9974  2023-04-01  \n",
       "9978  2023-02-16  \n",
       "9980  2023-08-24  \n",
       "\n",
       "[1089 rows x 7 columns]"
      ]
     },
     "execution_count": 137,
     "metadata": {},
     "output_type": "execute_result"
    }
   ],
   "source": [
    "data[data.Item == 'Tea']"
   ]
  },
  {
   "cell_type": "code",
   "execution_count": 138,
   "id": "21ada1f2-8471-4202-9478-ec4fb7517e34",
   "metadata": {},
   "outputs": [
    {
     "data": {
      "text/plain": [
       "Item              333\n",
       "Quantity          138\n",
       "Price_per_unit     12\n",
       "Total_spent        10\n",
       "Payment_method      0\n",
       "Location            0\n",
       "Trans_date        159\n",
       "dtype: int64"
      ]
     },
     "execution_count": 138,
     "metadata": {},
     "output_type": "execute_result"
    }
   ],
   "source": [
    "data.isnull().sum()"
   ]
  },
  {
   "cell_type": "code",
   "execution_count": 139,
   "id": "13ea8937-b575-4e53-99fd-8f08ab524c17",
   "metadata": {},
   "outputs": [],
   "source": [
    "# Store the most frequent Item, if multiple items have same price.\n",
    "dict_item_price = {}\n",
    "for key, val in dict_data_price.items():\n",
    "    if val in dict_item_price:\n",
    "        if len(data[data.Item == key]) > len(data[data.Item == dict_item_price[val][0]]):\n",
    "            dict_item_price[val].pop(0)\n",
    "            dict_item_price[val].append(key)\n",
    "    else:\n",
    "         dict_item_price[val] = []\n",
    "         dict_item_price[val].append(key)"
   ]
  },
  {
   "cell_type": "code",
   "execution_count": 140,
   "id": "6e4efb81-92e3-4f10-b957-484f16a10f7b",
   "metadata": {},
   "outputs": [
    {
     "data": {
      "text/plain": [
       "{'3.0': ['Juice'],\n",
       " '2.0': ['Coffee'],\n",
       " '1.0': ['Cookie'],\n",
       " '5.0': ['Salad'],\n",
       " '4.0': ['Sandwich'],\n",
       " '1.5': ['Tea']}"
      ]
     },
     "execution_count": 140,
     "metadata": {},
     "output_type": "execute_result"
    }
   ],
   "source": [
    "dict_item_price"
   ]
  },
  {
   "cell_type": "code",
   "execution_count": 152,
   "id": "1a2b2e98-92dc-48d3-83ed-0c183dedcc3f",
   "metadata": {},
   "outputs": [],
   "source": [
    "# Now we will replace all those NaNs with the most probable item based on price:\n",
    "for i in range(len(data)):\n",
    "    Price = data.loc[i,'Price_per_unit']\n",
    "    item = data.loc[i,'Item']\n",
    "    list_invalid = ['UNKNOWN','ERROR']\n",
    "    if pd.notna(Price) and Price not in list_invalid and pd.isna(item):\n",
    "        price_key = f\"{float(Price):.1f}\"\n",
    "        if price_key in dict_item_price:\n",
    "           data.loc[i,'Item'] = dict_item_price[str(price_key)][0]\n",
    "    else:\n",
    "        continue"
   ]
  },
  {
   "cell_type": "code",
   "execution_count": 153,
   "id": "ccb16ea5",
   "metadata": {},
   "outputs": [
    {
     "data": {
      "text/html": [
       "<div>\n",
       "<style scoped>\n",
       "    .dataframe tbody tr th:only-of-type {\n",
       "        vertical-align: middle;\n",
       "    }\n",
       "\n",
       "    .dataframe tbody tr th {\n",
       "        vertical-align: top;\n",
       "    }\n",
       "\n",
       "    .dataframe thead th {\n",
       "        text-align: right;\n",
       "    }\n",
       "</style>\n",
       "<table border=\"1\" class=\"dataframe\">\n",
       "  <thead>\n",
       "    <tr style=\"text-align: right;\">\n",
       "      <th></th>\n",
       "      <th>Item</th>\n",
       "      <th>Quantity</th>\n",
       "      <th>Price_per_unit</th>\n",
       "      <th>Total_spent</th>\n",
       "      <th>Payment_method</th>\n",
       "      <th>Location</th>\n",
       "      <th>Trans_date</th>\n",
       "    </tr>\n",
       "  </thead>\n",
       "  <tbody>\n",
       "    <tr>\n",
       "      <th>42</th>\n",
       "      <td>Tea</td>\n",
       "      <td>2</td>\n",
       "      <td>1.5</td>\n",
       "      <td>UNKNOWN</td>\n",
       "      <td>Missing</td>\n",
       "      <td>Takeaway</td>\n",
       "      <td>2023-01-10</td>\n",
       "    </tr>\n",
       "    <tr>\n",
       "      <th>70</th>\n",
       "      <td>Tea</td>\n",
       "      <td>3.0</td>\n",
       "      <td>1.5</td>\n",
       "      <td>3.0</td>\n",
       "      <td>Cash</td>\n",
       "      <td>In-store</td>\n",
       "      <td>2023-03-22</td>\n",
       "    </tr>\n",
       "    <tr>\n",
       "      <th>78</th>\n",
       "      <td>Tea</td>\n",
       "      <td>7.0</td>\n",
       "      <td>1.4</td>\n",
       "      <td>7.5</td>\n",
       "      <td>Cash</td>\n",
       "      <td>Missing</td>\n",
       "      <td>2023-06-02</td>\n",
       "    </tr>\n",
       "    <tr>\n",
       "      <th>85</th>\n",
       "      <td>Tea</td>\n",
       "      <td>4.0</td>\n",
       "      <td>1.333333</td>\n",
       "      <td>4.5</td>\n",
       "      <td>Cash</td>\n",
       "      <td>UNKNOWN</td>\n",
       "      <td>2023-10-29</td>\n",
       "    </tr>\n",
       "    <tr>\n",
       "      <th>90</th>\n",
       "      <td>Tea</td>\n",
       "      <td>3.0</td>\n",
       "      <td>1.5</td>\n",
       "      <td>3.0</td>\n",
       "      <td>Credit Card</td>\n",
       "      <td>In-store</td>\n",
       "      <td>2023-08-16</td>\n",
       "    </tr>\n",
       "    <tr>\n",
       "      <th>...</th>\n",
       "      <td>...</td>\n",
       "      <td>...</td>\n",
       "      <td>...</td>\n",
       "      <td>...</td>\n",
       "      <td>...</td>\n",
       "      <td>...</td>\n",
       "      <td>...</td>\n",
       "    </tr>\n",
       "    <tr>\n",
       "      <th>9961</th>\n",
       "      <td>Tea</td>\n",
       "      <td>3.0</td>\n",
       "      <td>1.5</td>\n",
       "      <td>3.0</td>\n",
       "      <td>Cash</td>\n",
       "      <td>Missing</td>\n",
       "      <td>2023-12-29</td>\n",
       "    </tr>\n",
       "    <tr>\n",
       "      <th>9965</th>\n",
       "      <td>Tea</td>\n",
       "      <td>3.0</td>\n",
       "      <td>1.5</td>\n",
       "      <td>3.0</td>\n",
       "      <td>Digital Wallet</td>\n",
       "      <td>Missing</td>\n",
       "      <td>2023-12-20</td>\n",
       "    </tr>\n",
       "    <tr>\n",
       "      <th>9974</th>\n",
       "      <td>Tea</td>\n",
       "      <td>6.0</td>\n",
       "      <td>1.5</td>\n",
       "      <td>6.0</td>\n",
       "      <td>Cash</td>\n",
       "      <td>In-store</td>\n",
       "      <td>2023-04-01</td>\n",
       "    </tr>\n",
       "    <tr>\n",
       "      <th>9978</th>\n",
       "      <td>Tea</td>\n",
       "      <td>4.0</td>\n",
       "      <td>1.333333</td>\n",
       "      <td>4.5</td>\n",
       "      <td>Missing</td>\n",
       "      <td>Missing</td>\n",
       "      <td>2023-02-16</td>\n",
       "    </tr>\n",
       "    <tr>\n",
       "      <th>9980</th>\n",
       "      <td>Tea</td>\n",
       "      <td>6.0</td>\n",
       "      <td>1.5</td>\n",
       "      <td>6.0</td>\n",
       "      <td>UNKNOWN</td>\n",
       "      <td>Missing</td>\n",
       "      <td>2023-08-24</td>\n",
       "    </tr>\n",
       "  </tbody>\n",
       "</table>\n",
       "<p>1113 rows × 7 columns</p>\n",
       "</div>"
      ],
      "text/plain": [
       "     Item Quantity Price_per_unit Total_spent  Payment_method  Location  \\\n",
       "42    Tea        2            1.5     UNKNOWN         Missing  Takeaway   \n",
       "70    Tea      3.0            1.5         3.0            Cash  In-store   \n",
       "78    Tea      7.0            1.4         7.5            Cash   Missing   \n",
       "85    Tea      4.0       1.333333         4.5            Cash   UNKNOWN   \n",
       "90    Tea      3.0            1.5         3.0     Credit Card  In-store   \n",
       "...   ...      ...            ...         ...             ...       ...   \n",
       "9961  Tea      3.0            1.5         3.0            Cash   Missing   \n",
       "9965  Tea      3.0            1.5         3.0  Digital Wallet   Missing   \n",
       "9974  Tea      6.0            1.5         6.0            Cash  In-store   \n",
       "9978  Tea      4.0       1.333333         4.5         Missing   Missing   \n",
       "9980  Tea      6.0            1.5         6.0         UNKNOWN   Missing   \n",
       "\n",
       "      Trans_date  \n",
       "42    2023-01-10  \n",
       "70    2023-03-22  \n",
       "78    2023-06-02  \n",
       "85    2023-10-29  \n",
       "90    2023-08-16  \n",
       "...          ...  \n",
       "9961  2023-12-29  \n",
       "9965  2023-12-20  \n",
       "9974  2023-04-01  \n",
       "9978  2023-02-16  \n",
       "9980  2023-08-24  \n",
       "\n",
       "[1113 rows x 7 columns]"
      ]
     },
     "execution_count": 153,
     "metadata": {},
     "output_type": "execute_result"
    }
   ],
   "source": [
    "data[data.Item == 'Tea']"
   ]
  },
  {
   "cell_type": "code",
   "execution_count": 154,
   "id": "2ffae429-acad-4ef5-bef1-463d5a3ee4f5",
   "metadata": {},
   "outputs": [],
   "source": [
    "# Price\n",
    "for i in range(len(data)):\n",
    "    Price = data.loc[i,'Price_per_unit']\n",
    "    Item = data.loc[i,'Item']\n",
    "    list_invalid = ['UNKNOWN','ERROR']\n",
    "    if pd.isna(Price) and pd.notna(Item) and Price not in list_invalid and Item not in list_invalid:\n",
    "        data.loc[i,'Price_per_unit'] = dict_data_price[Item]\n",
    "    else:\n",
    "        continue"
   ]
  },
  {
   "cell_type": "code",
   "execution_count": 155,
   "id": "2d9bc753-6359-4084-90bf-f2312547e60e",
   "metadata": {},
   "outputs": [],
   "source": [
    "# Quantity : \n",
    "for i in range(len(data)):\n",
    "    Price = data.loc[i,'Price_per_unit']\n",
    "    Spent = data.loc[i,'Total_spent']\n",
    "    list_invalid = ['UNKNOWN','ERROR']\n",
    "    if pd.notna(Price) and pd.notna(Spent) and Price not in list_invalid and Spent not in list_invalid:\n",
    "          Price = int(pd.to_numeric(Price))\n",
    "          Spent = int(pd.to_numeric(Spent))\n",
    "          data.loc[i,'Quantity'] = Spent/Price\n",
    "    else:\n",
    "        continue"
   ]
  },
  {
   "cell_type": "code",
   "execution_count": 156,
   "id": "a0315d3f-9b7a-4544-bdc3-537f84e97092",
   "metadata": {},
   "outputs": [
    {
     "data": {
      "text/plain": [
       "Item              13\n",
       "Quantity          12\n",
       "Price_per_unit     2\n",
       "Total_spent       10\n",
       "Payment_method     0\n",
       "Location           0\n",
       "Trans_date         0\n",
       "dtype: int64"
      ]
     },
     "execution_count": 156,
     "metadata": {},
     "output_type": "execute_result"
    }
   ],
   "source": [
    "data.isnull().sum()"
   ]
  },
  {
   "cell_type": "code",
   "execution_count": 150,
   "id": "38dfbfb6-8e94-440d-ac70-bff119424abd",
   "metadata": {
    "scrolled": true
   },
   "outputs": [
    {
     "name": "stderr",
     "output_type": "stream",
     "text": [
      "C:\\Users\\hp\\AppData\\Local\\Temp\\ipykernel_13308\\1694793086.py:1: FutureWarning: A value is trying to be set on a copy of a DataFrame or Series through chained assignment using an inplace method.\n",
      "The behavior will change in pandas 3.0. This inplace method will never work because the intermediate object on which we are setting values always behaves as a copy.\n",
      "\n",
      "For example, when doing 'df[col].method(value, inplace=True)', try using 'df.method({col: value}, inplace=True)' or df[col] = df[col].method(value) instead, to perform the operation inplace on the original object.\n",
      "\n",
      "\n",
      "  data.Trans_date.fillna('Missing',inplace=True)\n"
     ]
    }
   ],
   "source": [
    "data.Trans_date.fillna('Missing',inplace=True)"
   ]
  },
  {
   "cell_type": "code",
   "execution_count": 157,
   "id": "45ab0c21-8094-4033-b02a-a563f3ece5f5",
   "metadata": {},
   "outputs": [
    {
     "data": {
      "text/plain": [
       "Item              13\n",
       "Quantity          12\n",
       "Price_per_unit     2\n",
       "Total_spent       10\n",
       "Payment_method     0\n",
       "Location           0\n",
       "Trans_date         0\n",
       "dtype: int64"
      ]
     },
     "execution_count": 157,
     "metadata": {},
     "output_type": "execute_result"
    }
   ],
   "source": [
    "data.isnull().sum() # These are the final null values."
   ]
  },
  {
   "cell_type": "code",
   "execution_count": 158,
   "id": "349223ed-9175-4680-85e3-5d65a0a64714",
   "metadata": {},
   "outputs": [],
   "source": [
    "new_data = data.dropna()"
   ]
  },
  {
   "cell_type": "code",
   "execution_count": 159,
   "id": "93568797-b3d0-43fd-ae8d-56a84a70f230",
   "metadata": {},
   "outputs": [
    {
     "data": {
      "text/plain": [
       "9967"
      ]
     },
     "execution_count": 159,
     "metadata": {},
     "output_type": "execute_result"
    }
   ],
   "source": [
    "len(new_data)"
   ]
  },
  {
   "cell_type": "code",
   "execution_count": 160,
   "id": "d5963519-3a40-4dd5-b6d0-d92618ea3534",
   "metadata": {},
   "outputs": [
    {
     "data": {
      "text/plain": [
       "10000"
      ]
     },
     "execution_count": 160,
     "metadata": {},
     "output_type": "execute_result"
    }
   ],
   "source": [
    "len(data)"
   ]
  },
  {
   "cell_type": "code",
   "execution_count": null,
   "id": "3bf180aa-0cab-4d87-965c-a268a12285a3",
   "metadata": {},
   "outputs": [
    {
     "data": {
      "text/plain": [
       "-0.33"
      ]
     },
     "execution_count": 161,
     "metadata": {},
     "output_type": "execute_result"
    }
   ],
   "source": [
    "# %loss :\n",
    "# New_data and data comparison\n",
    "((len(new_data) - len(data))/len(data))*100 # 0.33% loss which is totally acceptable"
   ]
  },
  {
   "cell_type": "code",
   "execution_count": 162,
   "id": "ff1d4a04-2f62-41d0-984e-2caa8db2185a",
   "metadata": {},
   "outputs": [],
   "source": [
    "# so now we drop na from the original data:\n",
    "data.dropna(inplace=True)"
   ]
  },
  {
   "cell_type": "code",
   "execution_count": 163,
   "id": "6d7a00fb-a60e-4f8a-a77d-594977959fa8",
   "metadata": {},
   "outputs": [],
   "source": [
    "def convert_type(data,col):\n",
    "    for i in range(len(data)):\n",
    "        ele = data.iloc[i][col]  \n",
    "        if ele not in ['UNKNOWN', 'ERROR']:\n",
    "            data.iloc[i, data.columns.get_loc(col)] = round(float(pd.to_numeric(ele)),2)\n",
    "        else:\n",
    "            continue\n",
    "convert_type(data,'Price_per_unit')\n",
    "convert_type(data,'Quantity')\n",
    "convert_type(data,'Total_spent')"
   ]
  },
  {
   "cell_type": "code",
   "execution_count": 164,
   "id": "b4471290-5d5a-4475-8c02-0e066d580d2f",
   "metadata": {},
   "outputs": [],
   "source": [
    "data.to_csv('Datasets/sales.csv',index=False)"
   ]
  }
 ],
 "metadata": {
  "kernelspec": {
   "display_name": "Python 3",
   "language": "python",
   "name": "python3"
  },
  "language_info": {
   "codemirror_mode": {
    "name": "ipython",
    "version": 3
   },
   "file_extension": ".py",
   "mimetype": "text/x-python",
   "name": "python",
   "nbconvert_exporter": "python",
   "pygments_lexer": "ipython3",
   "version": "3.11.4"
  }
 },
 "nbformat": 4,
 "nbformat_minor": 5
}
